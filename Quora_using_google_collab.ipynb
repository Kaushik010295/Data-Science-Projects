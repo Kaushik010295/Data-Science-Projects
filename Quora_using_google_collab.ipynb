{
 "cells": [
  {
   "cell_type": "code",
   "execution_count": 1,
   "metadata": {
    "colab": {
     "base_uri": "https://localhost:8080/",
     "height": 35
    },
    "colab_type": "code",
    "id": "lahHbhdSj4UO",
    "outputId": "abacfd9d-231e-4971-fcb5-a2fd57965ef3"
   },
   "outputs": [
    {
     "data": {
      "text/plain": [
       "'/device:GPU:0'"
      ]
     },
     "execution_count": 1,
     "metadata": {
      "tags": []
     },
     "output_type": "execute_result"
    }
   ],
   "source": [
    "import tensorflow as tf\n",
    "tf.test.gpu_device_name()\n",
    "\n",
    "\n"
   ]
  },
  {
   "cell_type": "code",
   "execution_count": 0,
   "metadata": {
    "colab": {},
    "colab_type": "code",
    "id": "zgOuZiL7kO3T"
   },
   "outputs": [],
   "source": [
    "# !pip install keras"
   ]
  },
  {
   "cell_type": "code",
   "execution_count": 4,
   "metadata": {
    "colab": {
     "base_uri": "https://localhost:8080/",
     "height": 82
    },
    "colab_type": "code",
    "id": "rq2_6XZyklGa",
    "outputId": "bc2fb673-d0af-4f0b-f0c2-434ddd72ed46"
   },
   "outputs": [
    {
     "name": "stdout",
     "output_type": "stream",
     "text": [
      "\u001b[?25l\r",
      "\u001b[K     |▎                               | 10kB 17.1MB/s eta 0:00:01\r",
      "\u001b[K     |▋                               | 20kB 1.8MB/s eta 0:00:01\r",
      "\u001b[K     |█                               | 30kB 2.6MB/s eta 0:00:01\r",
      "\u001b[K     |█▎                              | 40kB 1.7MB/s eta 0:00:01\r",
      "\u001b[K     |█▋                              | 51kB 2.1MB/s eta 0:00:01\r",
      "\u001b[K     |██                              | 61kB 2.5MB/s eta 0:00:01\r",
      "\u001b[K     |██▎                             | 71kB 2.9MB/s eta 0:00:01\r",
      "\u001b[K     |██▋                             | 81kB 3.2MB/s eta 0:00:01\r",
      "\u001b[K     |███                             | 92kB 3.6MB/s eta 0:00:01\r",
      "\u001b[K     |███▎                            | 102kB 2.7MB/s eta 0:00:01\r",
      "\u001b[K     |███▋                            | 112kB 2.7MB/s eta 0:00:01\r",
      "\u001b[K     |████                            | 122kB 2.7MB/s eta 0:00:01\r",
      "\u001b[K     |████▎                           | 133kB 2.7MB/s eta 0:00:01\r",
      "\u001b[K     |████▋                           | 143kB 2.7MB/s eta 0:00:01\r",
      "\u001b[K     |█████                           | 153kB 2.7MB/s eta 0:00:01\r",
      "\u001b[K     |█████▎                          | 163kB 2.7MB/s eta 0:00:01\r",
      "\u001b[K     |█████▋                          | 174kB 2.7MB/s eta 0:00:01\r",
      "\u001b[K     |██████                          | 184kB 2.7MB/s eta 0:00:01\r",
      "\u001b[K     |██████▎                         | 194kB 2.7MB/s eta 0:00:01\r",
      "\u001b[K     |██████▋                         | 204kB 2.7MB/s eta 0:00:01\r",
      "\u001b[K     |███████                         | 215kB 2.7MB/s eta 0:00:01\r",
      "\u001b[K     |███████▎                        | 225kB 2.7MB/s eta 0:00:01\r",
      "\u001b[K     |███████▋                        | 235kB 2.7MB/s eta 0:00:01\r",
      "\u001b[K     |████████                        | 245kB 2.7MB/s eta 0:00:01\r",
      "\u001b[K     |████████▎                       | 256kB 2.7MB/s eta 0:00:01\r",
      "\u001b[K     |████████▋                       | 266kB 2.7MB/s eta 0:00:01\r",
      "\u001b[K     |█████████                       | 276kB 2.7MB/s eta 0:00:01\r",
      "\u001b[K     |█████████▎                      | 286kB 2.7MB/s eta 0:00:01\r",
      "\u001b[K     |█████████▋                      | 296kB 2.7MB/s eta 0:00:01\r",
      "\u001b[K     |██████████                      | 307kB 2.7MB/s eta 0:00:01\r",
      "\u001b[K     |██████████▎                     | 317kB 2.7MB/s eta 0:00:01\r",
      "\u001b[K     |██████████▋                     | 327kB 2.7MB/s eta 0:00:01\r",
      "\u001b[K     |███████████                     | 337kB 2.7MB/s eta 0:00:01\r",
      "\u001b[K     |███████████▎                    | 348kB 2.7MB/s eta 0:00:01\r",
      "\u001b[K     |███████████▋                    | 358kB 2.7MB/s eta 0:00:01\r",
      "\u001b[K     |████████████                    | 368kB 2.7MB/s eta 0:00:01\r",
      "\u001b[K     |████████████▎                   | 378kB 2.7MB/s eta 0:00:01\r",
      "\u001b[K     |████████████▋                   | 389kB 2.7MB/s eta 0:00:01\r",
      "\u001b[K     |█████████████                   | 399kB 2.7MB/s eta 0:00:01\r",
      "\u001b[K     |█████████████▎                  | 409kB 2.7MB/s eta 0:00:01\r",
      "\u001b[K     |█████████████▋                  | 419kB 2.7MB/s eta 0:00:01\r",
      "\u001b[K     |██████████████                  | 430kB 2.7MB/s eta 0:00:01\r",
      "\u001b[K     |██████████████▎                 | 440kB 2.7MB/s eta 0:00:01\r",
      "\u001b[K     |██████████████▋                 | 450kB 2.7MB/s eta 0:00:01\r",
      "\u001b[K     |███████████████                 | 460kB 2.7MB/s eta 0:00:01\r",
      "\u001b[K     |███████████████▎                | 471kB 2.7MB/s eta 0:00:01\r",
      "\u001b[K     |███████████████▋                | 481kB 2.7MB/s eta 0:00:01\r",
      "\u001b[K     |████████████████                | 491kB 2.7MB/s eta 0:00:01\r",
      "\u001b[K     |████████████████▎               | 501kB 2.7MB/s eta 0:00:01\r",
      "\u001b[K     |████████████████▋               | 512kB 2.7MB/s eta 0:00:01\r",
      "\u001b[K     |█████████████████               | 522kB 2.7MB/s eta 0:00:01\r",
      "\u001b[K     |█████████████████▎              | 532kB 2.7MB/s eta 0:00:01\r",
      "\u001b[K     |█████████████████▋              | 542kB 2.7MB/s eta 0:00:01\r",
      "\u001b[K     |██████████████████              | 552kB 2.7MB/s eta 0:00:01\r",
      "\u001b[K     |██████████████████▎             | 563kB 2.7MB/s eta 0:00:01\r",
      "\u001b[K     |██████████████████▋             | 573kB 2.7MB/s eta 0:00:01\r",
      "\u001b[K     |███████████████████             | 583kB 2.7MB/s eta 0:00:01\r",
      "\u001b[K     |███████████████████▎            | 593kB 2.7MB/s eta 0:00:01\r",
      "\u001b[K     |███████████████████▋            | 604kB 2.7MB/s eta 0:00:01\r",
      "\u001b[K     |████████████████████            | 614kB 2.7MB/s eta 0:00:01\r",
      "\u001b[K     |████████████████████▎           | 624kB 2.7MB/s eta 0:00:01\r",
      "\u001b[K     |████████████████████▋           | 634kB 2.7MB/s eta 0:00:01\r",
      "\u001b[K     |█████████████████████           | 645kB 2.7MB/s eta 0:00:01\r",
      "\u001b[K     |█████████████████████▎          | 655kB 2.7MB/s eta 0:00:01\r",
      "\u001b[K     |█████████████████████▋          | 665kB 2.7MB/s eta 0:00:01\r",
      "\u001b[K     |██████████████████████          | 675kB 2.7MB/s eta 0:00:01\r",
      "\u001b[K     |██████████████████████▎         | 686kB 2.7MB/s eta 0:00:01\r",
      "\u001b[K     |██████████████████████▋         | 696kB 2.7MB/s eta 0:00:01\r",
      "\u001b[K     |███████████████████████         | 706kB 2.7MB/s eta 0:00:01\r",
      "\u001b[K     |███████████████████████▎        | 716kB 2.7MB/s eta 0:00:01\r",
      "\u001b[K     |███████████████████████▋        | 727kB 2.7MB/s eta 0:00:01\r",
      "\u001b[K     |████████████████████████        | 737kB 2.7MB/s eta 0:00:01\r",
      "\u001b[K     |████████████████████████▎       | 747kB 2.7MB/s eta 0:00:01\r",
      "\u001b[K     |████████████████████████▋       | 757kB 2.7MB/s eta 0:00:01\r",
      "\u001b[K     |████████████████████████▉       | 768kB 2.7MB/s eta 0:00:01\r",
      "\u001b[K     |█████████████████████████▏      | 778kB 2.7MB/s eta 0:00:01\r",
      "\u001b[K     |█████████████████████████▌      | 788kB 2.7MB/s eta 0:00:01\r",
      "\u001b[K     |█████████████████████████▉      | 798kB 2.7MB/s eta 0:00:01\r",
      "\u001b[K     |██████████████████████████▏     | 808kB 2.7MB/s eta 0:00:01\r",
      "\u001b[K     |██████████████████████████▌     | 819kB 2.7MB/s eta 0:00:01\r",
      "\u001b[K     |██████████████████████████▉     | 829kB 2.7MB/s eta 0:00:01\r",
      "\u001b[K     |███████████████████████████▏    | 839kB 2.7MB/s eta 0:00:01\r",
      "\u001b[K     |███████████████████████████▌    | 849kB 2.7MB/s eta 0:00:01\r",
      "\u001b[K     |███████████████████████████▉    | 860kB 2.7MB/s eta 0:00:01\r",
      "\u001b[K     |████████████████████████████▏   | 870kB 2.7MB/s eta 0:00:01\r",
      "\u001b[K     |████████████████████████████▌   | 880kB 2.7MB/s eta 0:00:01\r",
      "\u001b[K     |████████████████████████████▉   | 890kB 2.7MB/s eta 0:00:01\r",
      "\u001b[K     |█████████████████████████████▏  | 901kB 2.7MB/s eta 0:00:01\r",
      "\u001b[K     |█████████████████████████████▌  | 911kB 2.7MB/s eta 0:00:01\r",
      "\u001b[K     |█████████████████████████████▉  | 921kB 2.7MB/s eta 0:00:01\r",
      "\u001b[K     |██████████████████████████████▏ | 931kB 2.7MB/s eta 0:00:01\r",
      "\u001b[K     |██████████████████████████████▌ | 942kB 2.7MB/s eta 0:00:01\r",
      "\u001b[K     |██████████████████████████████▉ | 952kB 2.7MB/s eta 0:00:01\r",
      "\u001b[K     |███████████████████████████████▏| 962kB 2.7MB/s eta 0:00:01\r",
      "\u001b[K     |███████████████████████████████▌| 972kB 2.7MB/s eta 0:00:01\r",
      "\u001b[K     |███████████████████████████████▉| 983kB 2.7MB/s eta 0:00:01\r",
      "\u001b[K     |████████████████████████████████| 993kB 2.7MB/s \n",
      "\u001b[?25h  Building wheel for PyDrive (setup.py) ... \u001b[?25l\u001b[?25hdone\n"
     ]
    }
   ],
   "source": [
    "!pip install -U -q PyDrive"
   ]
  },
  {
   "cell_type": "code",
   "execution_count": 0,
   "metadata": {
    "colab": {},
    "colab_type": "code",
    "id": "-5vD8gdkk4L4"
   },
   "outputs": [],
   "source": [
    "from pydrive.auth import GoogleAuth\n",
    "from pydrive.drive import GoogleDrive\n",
    "from google.colab import auth\n",
    "from oauth2client.client import GoogleCredentials"
   ]
  },
  {
   "cell_type": "code",
   "execution_count": 0,
   "metadata": {
    "colab": {},
    "colab_type": "code",
    "id": "dgwt2vVYlG6h"
   },
   "outputs": [],
   "source": [
    "auth.authenticate_user()\n",
    "gauth = GoogleAuth()\n",
    "gauth.credentials = GoogleCredentials.get_application_default()\n",
    "drive = GoogleDrive(gauth)"
   ]
  },
  {
   "cell_type": "code",
   "execution_count": 7,
   "metadata": {
    "colab": {
     "base_uri": "https://localhost:8080/",
     "height": 1000
    },
    "colab_type": "code",
    "id": "VwPf4pXorM1V",
    "outputId": "30e9a9ed-aeea-46de-aaf2-1e8611cf7657"
   },
   "outputs": [
    {
     "name": "stderr",
     "output_type": "stream",
     "text": [
      "WARNING: Logging before flag parsing goes to stderr.\n",
      "W0719 05:21:17.524216 140105013667712 __init__.py:44] file_cache is unavailable when using oauth2client >= 4.0.0 or google-auth\n",
      "Traceback (most recent call last):\n",
      "  File \"/usr/local/lib/python3.6/dist-packages/googleapiclient/discovery_cache/__init__.py\", line 36, in autodetect\n",
      "    from google.appengine.api import memcache\n",
      "ModuleNotFoundError: No module named 'google.appengine'\n",
      "\n",
      "During handling of the above exception, another exception occurred:\n",
      "\n",
      "Traceback (most recent call last):\n",
      "  File \"/usr/local/lib/python3.6/dist-packages/googleapiclient/discovery_cache/file_cache.py\", line 33, in <module>\n",
      "    from oauth2client.contrib.locked_file import LockedFile\n",
      "ModuleNotFoundError: No module named 'oauth2client.contrib.locked_file'\n",
      "\n",
      "During handling of the above exception, another exception occurred:\n",
      "\n",
      "Traceback (most recent call last):\n",
      "  File \"/usr/local/lib/python3.6/dist-packages/googleapiclient/discovery_cache/file_cache.py\", line 37, in <module>\n",
      "    from oauth2client.locked_file import LockedFile\n",
      "ModuleNotFoundError: No module named 'oauth2client.locked_file'\n",
      "\n",
      "During handling of the above exception, another exception occurred:\n",
      "\n",
      "Traceback (most recent call last):\n",
      "  File \"/usr/local/lib/python3.6/dist-packages/googleapiclient/discovery_cache/__init__.py\", line 41, in autodetect\n",
      "    from . import file_cache\n",
      "  File \"/usr/local/lib/python3.6/dist-packages/googleapiclient/discovery_cache/file_cache.py\", line 41, in <module>\n",
      "    'file_cache is unavailable when using oauth2client >= 4.0.0 or google-auth')\n",
      "ImportError: file_cache is unavailable when using oauth2client >= 4.0.0 or google-auth\n"
     ]
    },
    {
     "name": "stdout",
     "output_type": "stream",
     "text": [
      "title: Colab Notebooks, id: 14cWgjTJ2ahlliC6Gjo8CEyriIZGXL-1I\n",
      "title: glove.840B.300d.txt, id: 10lbTTx5oR5eS_2OShO0kTA6j1esQCxfk\n",
      "title: train.csv, id: 1wgk96WWngo5JwX4sGqSsXxo1wcx9pIgr\n",
      "title: Scanned Documents.pdf, id: 1tjyPkgPxnxazxKEUb532sB3yvQkUeFW4\n",
      "title: Scanned Documents.pdf, id: 1fZ-jE1JZ4bLxqXgARrTq84ovk6voU11R\n",
      "title: Scanned Documents.pdf, id: 1X_MSMEPOcWzyCvHuh9Sr20DTWNQIY2m_\n",
      "title: File_004.txt, id: 1lgIy_UgZGkH2obuGZ7Wyus8sViPbFvwB\n",
      "title: Kaushik_Jagini_Certified_Data_Science_Specialist.pdf, id: 1dsaPScG4gbPLCmtVwaVJHUG_KpuiSHwO\n",
      "title: Kaushik_Jagini_Certified_Data_Science_Specialist, id: 1Ft-zGSVx8uIFg8gXrmBYp6j9O7D9Y5EauO3ShIlEEDs\n",
      "title: Kaushik_Jagini_Certified_Data_Science_Specialist.pdf, id: 0B-tuI-P1Bc25QjZWMktsZ1RQZmwyMTh4SjZxSzJnSTlxME1v\n",
      "title: 13D6166F-EF66-4409-BF0E-D1F452DB979B.jpeg, id: 1ljnf3cy8xjIgDtNd_mMrzVLdcTIPI40x\n",
      "title: Swing-Kaushik.mp4, id: 1RQt_07E-j_jcIlvF82AU6jPNPTcxaAHp\n",
      "title: Untitled document, id: 1y_PkYvRIyphLUxqoedTFs4lEgJyhuiMCUCYVyif403s\n",
      "title: MVI_5093.MP4, id: 0B-tuI-P1Bc25SkRQczNYbkJoMmc\n",
      "title: IMG_1267.JPG, id: 0B-tuI-P1Bc25ZXVEYmduWTlZU1U\n",
      "title: IMG_1266.JPG, id: 0B-tuI-P1Bc25U0JLSXU4QWFzVWM\n",
      "title: IMG_1265.JPG, id: 0B-tuI-P1Bc25VEk4ZjZxNVZGS2M\n",
      "title: IMG_1256.JPG, id: 0B-tuI-P1Bc25T08xc2VoM0JVams\n",
      "title: IMG_1260.JPG, id: 0B-tuI-P1Bc25ZVhnQ0tKYzZ4RDg\n",
      "title: IMG_1255.JPG, id: 0B-tuI-P1Bc25SjFQZUJSbWw1LXc\n",
      "title: IMG_4913.JPG, id: 0B-tuI-P1Bc25bGNZeXhoSk0tSDA\n",
      "title: IMG_4912.JPG, id: 0B-tuI-P1Bc25LTZKZVNldlNmaXc\n",
      "title: IMG_4911.JPG, id: 0B-tuI-P1Bc25S3NRQWtWSXpDQWM\n",
      "title: IMG_4910.JPG, id: 0B-tuI-P1Bc25WkZ4bDNQeEo2N00\n",
      "title: IMG_4902.JPG, id: 0B-tuI-P1Bc25eEhjbkxZUVBuVUE\n",
      "title: IMG_4901.JPG, id: 0B-tuI-P1Bc25NjNGZGl4Y0xaYWc\n",
      "title: IMG_4900.JPG, id: 0B-tuI-P1Bc25YjNSUlB5aUI1Q1E\n",
      "title: IMG_3181.JPG, id: 0B-tuI-P1Bc25enZ5cmNzbkJHVGM\n",
      "title: IMG_3157.JPG, id: 0B-tuI-P1Bc25dW4tX1dsNk4wd2c\n",
      "title: IMG_3180.JPG, id: 0B-tuI-P1Bc25dUppSWlNWlZPR2s\n",
      "title: IMG_3169.JPG, id: 0B-tuI-P1Bc25b2NaSWVTY1Y2NVk\n",
      "title: IMG_3193.JPG, id: 0B-tuI-P1Bc25bnVaaE9TVVBReVE\n",
      "title: IMG_3159.JPG, id: 0B-tuI-P1Bc25a295WDlGUHlCMDQ\n",
      "title: IMG_3144.JPG, id: 0B-tuI-P1Bc25ajFBSHQ4Q2NydUk\n",
      "title: IMG_3183.JPG, id: 0B-tuI-P1Bc25aTlrRWhMOGR3dWM\n",
      "title: IMG_3188.JPG, id: 0B-tuI-P1Bc25aTRpSmlZTUVFQ00\n",
      "title: IMG_3156.JPG, id: 0B-tuI-P1Bc25aHdhUTFaVG5hQ3c\n",
      "title: IMG_3171.JPG, id: 0B-tuI-P1Bc25ZkNIdWRfWlRUdkk\n",
      "title: IMG_3200.JPG, id: 0B-tuI-P1Bc25ZElMV0VubnR1aWc\n",
      "title: IMG_3177.JPG, id: 0B-tuI-P1Bc25YzVra1BibjE2RU0\n",
      "title: IMG_3141.JPG, id: 0B-tuI-P1Bc25YjBFcEJjTG1FQ3M\n",
      "title: IMG_3151.JPG, id: 0B-tuI-P1Bc25WDBvVWo3WnhZMUk\n",
      "title: IMG_3196.JPG, id: 0B-tuI-P1Bc25V2hqMWxGNmtQd3M\n",
      "title: IMG_3186.JPG, id: 0B-tuI-P1Bc25VUdMMU9UTUJtcWs\n",
      "title: IMG_3165.JPG, id: 0B-tuI-P1Bc25U2NERE56ZEl5dm8\n",
      "title: IMG_3173.JPG, id: 0B-tuI-P1Bc25UG5VeXNfYW53SVE\n",
      "title: IMG_3174.JPG, id: 0B-tuI-P1Bc25TmxHaXpBVjhDVHM\n",
      "title: IMG_3170.JPG, id: 0B-tuI-P1Bc25TjVBTGtkTFA0dXM\n",
      "title: IMG_3167.JPG, id: 0B-tuI-P1Bc25TWxOMDk5anhkQU0\n",
      "title: IMG_3145.JPG, id: 0B-tuI-P1Bc25TFFxXzV6RDJlSGs\n",
      "title: IMG_3202.JPG, id: 0B-tuI-P1Bc25S2VtMVlVUW1JdWc\n",
      "title: IMG_3175.JPG, id: 0B-tuI-P1Bc25STROMGRuS3dNamM\n",
      "title: IMG_3153.JPG, id: 0B-tuI-P1Bc25R2tfVUJZMHJuakk\n",
      "title: IMG_3168.JPG, id: 0B-tuI-P1Bc25QmhTeVBVWkVIMGs\n",
      "title: IMG_3179.JPG, id: 0B-tuI-P1Bc25QjJoNFJrWm1NcDQ\n",
      "title: IMG_3136.JPG, id: 0B-tuI-P1Bc25QXU0R0RVSHdEMUE\n",
      "title: IMG_3146.JPG, id: 0B-tuI-P1Bc25OEdjWEgtbFpJb3M\n",
      "title: IMG_3182.JPG, id: 0B-tuI-P1Bc25NWNUYXhrbVlOS2c\n",
      "title: IMG_3133.JPG, id: 0B-tuI-P1Bc25NUNDYzAxcml4ZWc\n",
      "title: IMG_3190.JPG, id: 0B-tuI-P1Bc25MzVEd29GTy1EVGM\n",
      "title: IMG_3139.JPG, id: 0B-tuI-P1Bc25Mk1OSHA4RXYtN0E\n",
      "title: IMG_3163.JPG, id: 0B-tuI-P1Bc25MHpsbWg2NHF1WGc\n",
      "title: IMG_3160.JPG, id: 0B-tuI-P1Bc25MDMtc0JiNGlPZ0U\n",
      "title: IMG_3172.JPG, id: 0B-tuI-P1Bc25LWh2R2wxYmRRX2c\n",
      "title: IMG_3195.JPG, id: 0B-tuI-P1Bc25LUszM2R2RXRZQkE\n",
      "title: IMG_3181.JPG, id: 0B-tuI-P1Bc25YWl3dTN6b004am8\n",
      "title: Pictures, id: 0B-tuI-P1Bc25SEdISWhrSTZneVk\n",
      "title: Vizag.mp4, id: 0B-tuI-P1Bc25QUhlY3F4bjBfNjQ\n",
      "title: IMG_1303.JPG, id: 0B-tuI-P1Bc25M3JpemJ0MVk3U2s\n",
      "title: IMG_1304.JPG, id: 0B-tuI-P1Bc25NGgtUFJhSjRUams\n",
      "title: IMG_1302.JPG, id: 0B-tuI-P1Bc25cHd1ZlB6S3VLNDQ\n",
      "title: IMG_1301.JPG, id: 0B-tuI-P1Bc25STZYdkY4N3M3Y3M\n",
      "title: IMG_1300.JPG, id: 0B-tuI-P1Bc25MGVxR04zWTlPbms\n",
      "title: IMG_1299.JPG, id: 0B-tuI-P1Bc25d2g1NW85cXBZYzQ\n",
      "title: IMG_1273.JPG, id: 0B-tuI-P1Bc25N0JFaEZuSUlYQTA\n",
      "title: IMG_1272.JPG, id: 0B-tuI-P1Bc25V3lzSm85cTVsVVk\n",
      "title: IMG_1271.JPG, id: 0B-tuI-P1Bc25Z3hHcXdSQ1B0aGc\n",
      "title: IMG_1270.JPG, id: 0B-tuI-P1Bc25WTNkLWVYdW5pbnM\n",
      "title: IMG_1269.JPG, id: 0B-tuI-P1Bc25X0xiTkpMNzNvOVk\n",
      "title: IMG_1268.JPG, id: 0B-tuI-P1Bc25azJBamlOTURPQ3M\n",
      "title: IMG_1267.JPG, id: 0B-tuI-P1Bc25eUpLWUxxcXIzMFU\n",
      "title: IMG_1265.JPG, id: 0B-tuI-P1Bc25Y29YUklXUGZsVjg\n",
      "title: IMG_1266.JPG, id: 0B-tuI-P1Bc25MEpiR2N1RzZLWDg\n",
      "title: IMG_1264.JPG, id: 0B-tuI-P1Bc25UnU0Vno2cXJWdTQ\n",
      "title: IMG_1263.JPG, id: 0B-tuI-P1Bc25S2ZxT2xVdm1BNms\n",
      "title: IMG_1262.JPG, id: 0B-tuI-P1Bc25NlhseHpnMG5NY2s\n",
      "title: IMG_1261.JPG, id: 0B-tuI-P1Bc25b2tGd2RJbWZPMFk\n",
      "title: IMG_1260.JPG, id: 0B-tuI-P1Bc25a2dJMFJjcXUzTWs\n",
      "title: IMG_1259.JPG, id: 0B-tuI-P1Bc25NDBSdmdHWGZ6X0E\n",
      "title: IMG_1258.JPG, id: 0B-tuI-P1Bc25OUpRSXZjLXo4YW8\n",
      "title: IMG_1257.JPG, id: 0B-tuI-P1Bc25X29vcm1aTXlMMkU\n",
      "title: IMG_1256.JPG, id: 0B-tuI-P1Bc25NFEwNGt5dG5rSlk\n",
      "title: IMG_1255.JPG, id: 0B-tuI-P1Bc25Y0M4VW13ekVuNVE\n",
      "title: HBD KAU.wlmp, id: 0B-tuI-P1Bc25dk50ZUN3SlZ5Nm9qRGRyOFVDTjdfd1VUMFZv\n",
      "title: START 1.wlmp, id: 0B-tuI-P1Bc25TEhUY2I3WDdjTTN6THFQOWhUdVFpbVZ0QVVr\n",
      "title: IMG_0003.pdf, id: 0B-tuI-P1Bc25TmI1XzhreVhSc2IydUQzOWVieWZja2E1NG5R\n",
      "title: IMG_0002.pdf, id: 0B-tuI-P1Bc25LVdlOXpTaXRNVThKWkRqclZ5MjFGbVByaHA0\n",
      "title: IMG_0001.pdf, id: 0B-tuI-P1Bc25MW94SEEwbnZkZ3I2aEdwZGxBTHlOUF9UTGl3\n",
      "title: IMG.pdf, id: 0B-tuI-P1Bc25UlRidDY0N3dJV05hcVZRQnItVGdzVHFiYjh3\n",
      "title: Answers to FAQ & Student Queries, id: 1rhEzKI7TcmkHe4q04WnqYPNYxIrW-LzGYSVPEpJSSw4\n",
      "title: 13 050.jpg, id: 0B-tuI-P1Bc25bTduUHBwZ0xOaC1ldl95bzdEYWJHWThtV0JZ\n",
      "title: 13 049.jpg, id: 0B-tuI-P1Bc25R3Uyei1YY2V1ZmwwVkxRc0l5eGRGM1JDOEww\n",
      "title: Kaushik CV and Video, id: 0B-tuI-P1Bc25MWstRDY0YmpqZTQ\n",
      "title: HelloworldController.java, id: 0B-tuI-P1Bc25eDZ1ZG9uamU0a3FjblF3cnlMeGFEdW1PaFZ3\n",
      "title: Category.java, id: 0B-tuI-P1Bc25eWdyWHU0UGtleHMxM1J5ZHluSDRrV04xc3VZ\n",
      "title: Video_Links.xlsx, id: 0B-tuI-P1Bc25QkRvZ2E0b2RWZVBzNUEwWmg2V1B1OFJDakRB\n",
      "title: Kaushik Resume.pdf1.pdf, id: 0B-tuI-P1Bc25QUxmZnFhSHZxYldMRFJNVlFEVUR0eWkzWjVN\n",
      "title: Getting started, id: 0B-tuI-P1Bc25c3RhcnRlcl9maWxl\n"
     ]
    }
   ],
   "source": [
    "file_list = drive.ListFile({'q': \"'root' in parents and trashed=false\"}).GetList()\n",
    "for file1 in file_list:\n",
    "  print('title: %s, id: %s' % (file1['title'], file1['id']))"
   ]
  },
  {
   "cell_type": "code",
   "execution_count": 0,
   "metadata": {
    "colab": {},
    "colab_type": "code",
    "id": "h_DgCrf7rdpE"
   },
   "outputs": [],
   "source": [
    "\n",
    "downloaded = drive.CreateFile({'id': '1wgk96WWngo5JwX4sGqSsXxo1wcx9pIgr'})\n",
    "downloaded.GetContentFile('train.csv')"
   ]
  },
  {
   "cell_type": "code",
   "execution_count": 9,
   "metadata": {
    "colab": {
     "base_uri": "https://localhost:8080/",
     "height": 35
    },
    "colab_type": "code",
    "id": "5f7bg4Sjrplb",
    "outputId": "f6abbc5a-a907-4349-b18f-f10f219453dc"
   },
   "outputs": [
    {
     "data": {
      "text/plain": [
       "['.config', 'adc.json', 'train.csv', 'sample_data']"
      ]
     },
     "execution_count": 9,
     "metadata": {
      "tags": []
     },
     "output_type": "execute_result"
    }
   ],
   "source": [
    "import os\n",
    "os.listdir()"
   ]
  },
  {
   "cell_type": "code",
   "execution_count": 0,
   "metadata": {
    "colab": {},
    "colab_type": "code",
    "id": "3F6Rcelqrwfl"
   },
   "outputs": [],
   "source": [
    "import pandas as pd\n",
    "all_data = pd.read_csv(\"train.csv\")"
   ]
  },
  {
   "cell_type": "code",
   "execution_count": 13,
   "metadata": {
    "colab": {
     "base_uri": "https://localhost:8080/",
     "height": 207
    },
    "colab_type": "code",
    "id": "jidXQiS-sf0c",
    "outputId": "4b0e0150-82cd-42b4-c63d-b685896afe3c"
   },
   "outputs": [
    {
     "data": {
      "text/html": [
       "<div>\n",
       "<style scoped>\n",
       "    .dataframe tbody tr th:only-of-type {\n",
       "        vertical-align: middle;\n",
       "    }\n",
       "\n",
       "    .dataframe tbody tr th {\n",
       "        vertical-align: top;\n",
       "    }\n",
       "\n",
       "    .dataframe thead th {\n",
       "        text-align: right;\n",
       "    }\n",
       "</style>\n",
       "<table border=\"1\" class=\"dataframe\">\n",
       "  <thead>\n",
       "    <tr style=\"text-align: right;\">\n",
       "      <th></th>\n",
       "      <th>qid</th>\n",
       "      <th>question_text</th>\n",
       "      <th>target</th>\n",
       "    </tr>\n",
       "  </thead>\n",
       "  <tbody>\n",
       "    <tr>\n",
       "      <th>0</th>\n",
       "      <td>00002165364db923c7e6</td>\n",
       "      <td>How did Quebec nationalists see their province...</td>\n",
       "      <td>0</td>\n",
       "    </tr>\n",
       "    <tr>\n",
       "      <th>1</th>\n",
       "      <td>000032939017120e6e44</td>\n",
       "      <td>Do you have an adopted dog, how would you enco...</td>\n",
       "      <td>0</td>\n",
       "    </tr>\n",
       "    <tr>\n",
       "      <th>2</th>\n",
       "      <td>0000412ca6e4628ce2cf</td>\n",
       "      <td>Why does velocity affect time? Does velocity a...</td>\n",
       "      <td>0</td>\n",
       "    </tr>\n",
       "    <tr>\n",
       "      <th>3</th>\n",
       "      <td>000042bf85aa498cd78e</td>\n",
       "      <td>How did Otto von Guericke used the Magdeburg h...</td>\n",
       "      <td>0</td>\n",
       "    </tr>\n",
       "    <tr>\n",
       "      <th>4</th>\n",
       "      <td>0000455dfa3e01eae3af</td>\n",
       "      <td>Can I convert montra helicon D to a mountain b...</td>\n",
       "      <td>0</td>\n",
       "    </tr>\n",
       "  </tbody>\n",
       "</table>\n",
       "</div>"
      ],
      "text/plain": [
       "                    qid  ... target\n",
       "0  00002165364db923c7e6  ...      0\n",
       "1  000032939017120e6e44  ...      0\n",
       "2  0000412ca6e4628ce2cf  ...      0\n",
       "3  000042bf85aa498cd78e  ...      0\n",
       "4  0000455dfa3e01eae3af  ...      0\n",
       "\n",
       "[5 rows x 3 columns]"
      ]
     },
     "execution_count": 13,
     "metadata": {
      "tags": []
     },
     "output_type": "execute_result"
    }
   ],
   "source": [
    "all_data.head()"
   ]
  },
  {
   "cell_type": "code",
   "execution_count": null,
   "metadata": {
    "colab": {
     "base_uri": "https://localhost:8080/",
     "height": 141
    },
    "colab_type": "code",
    "id": "d7QhyhwVuY8M",
    "outputId": "7ef5c9b5-1b02-44fc-f50e-c1e5e14e9e3e"
   },
   "outputs": [],
   "source": [
    "import numpy as np\n",
    "from sklearn.model_selection import train_test_split"
   ]
  },
  {
   "cell_type": "code",
   "execution_count": null,
   "metadata": {
    "colab": {
     "base_uri": "https://localhost:8080/",
     "height": 141
    },
    "colab_type": "code",
    "id": "d7QhyhwVuY8M",
    "outputId": "7ef5c9b5-1b02-44fc-f50e-c1e5e14e9e3e"
   },
   "outputs": [],
   "source": [
    "X_train, X_test, y_train, y_test = train_test_split(all_data['question_text'], all_data['target'], test_size=0.2, random_state=42)"
   ]
  },
  {
   "cell_type": "code",
   "execution_count": null,
   "metadata": {
    "colab": {
     "base_uri": "https://localhost:8080/",
     "height": 141
    },
    "colab_type": "code",
    "id": "d7QhyhwVuY8M",
    "outputId": "7ef5c9b5-1b02-44fc-f50e-c1e5e14e9e3e"
   },
   "outputs": [],
   "source": [
    "import nltk\n",
    "nltk.download('punkt')"
   ]
  },
  {
   "cell_type": "code",
   "execution_count": null,
   "metadata": {
    "colab": {
     "base_uri": "https://localhost:8080/",
     "height": 141
    },
    "colab_type": "code",
    "id": "d7QhyhwVuY8M",
    "outputId": "7ef5c9b5-1b02-44fc-f50e-c1e5e14e9e3e"
   },
   "outputs": [],
   "source": [
    "from nltk import word_tokenize"
   ]
  },
  {
   "cell_type": "code",
   "execution_count": 16,
   "metadata": {
    "colab": {
     "base_uri": "https://localhost:8080/",
     "height": 141
    },
    "colab_type": "code",
    "id": "d7QhyhwVuY8M",
    "outputId": "7ef5c9b5-1b02-44fc-f50e-c1e5e14e9e3e"
   },
   "outputs": [
    {
     "name": "stdout",
     "output_type": "stream",
     "text": [
      "[nltk_data] Downloading package punkt to /root/nltk_data...\n",
      "[nltk_data]   Package punkt is already up-to-date!\n"
     ]
    },
    {
     "name": "stderr",
     "output_type": "stream",
     "text": [
      "Using TensorFlow backend.\n"
     ]
    },
    {
     "data": {
      "text/plain": [
       "array([    0,     0,     0,     0,     0,     0,     0,     0,     0,\n",
       "           0,     0,     0,     0,     0,     0,     0,     0,     0,\n",
       "           0,     0,     0,     9,     3,  4780, 11233,     3,   130,\n",
       "          27,   427, 11233], dtype=int32)"
      ]
     },
     "execution_count": 16,
     "metadata": {
      "tags": []
     },
     "output_type": "execute_result"
    }
   ],
   "source": [
    "question_lens=[]\n",
    "for question in all_data['question_text']:\n",
    "    question_lens.append(len(word_tokenize(question)))\n",
    "\n",
    "max(question_lens)\n",
    "\n",
    "np.quantile(question_lens,0.90)\n",
    "\n",
    "from keras.preprocessing.text import Tokenizer\n",
    "\n",
    "max_len = 30\n",
    "tok = Tokenizer(char_level=False,split=' ')\n",
    "tok.fit_on_texts(X_train)\n",
    "sequences_train = tok.texts_to_sequences(X_train)\n",
    "\n",
    "X_train.head()\n",
    "\n",
    "vocab_len=len(tok.index_word.keys())\n",
    "\n",
    "vocab_len\n",
    "\n",
    "from keras.preprocessing import sequence\n",
    "\n",
    "sequences_matrix_train = sequence.pad_sequences(sequences_train,maxlen=max_len)\n",
    "\n",
    "sequences_matrix_train\n",
    "\n",
    "sequences_matrix_train[0]"
   ]
  },
  {
   "cell_type": "code",
   "execution_count": 0,
   "metadata": {
    "colab": {},
    "colab_type": "code",
    "id": "nh2vgWENwzAR"
   },
   "outputs": [],
   "source": [
    "def RNN():\n",
    "    inputs = Input(name='inputs',shape=[max_len])\n",
    "    layer = Embedding(vocab_len+1,300,input_length=max_len,mask_zero=True)(inputs)\n",
    "    layer = LSTM(64)(layer)\n",
    "    layer = Dense(256,name='FC1')(layer)\n",
    "    layer = Activation('relu')(layer)\n",
    "    layer = Dropout(0.5)(layer)\n",
    "    layer = Dense(1,name='out_layer')(layer)\n",
    "    layer = Activation('sigmoid')(layer)\n",
    "    model = Model(inputs=inputs,outputs=layer)\n",
    "    return model"
   ]
  },
  {
   "cell_type": "code",
   "execution_count": 0,
   "metadata": {
    "colab": {},
    "colab_type": "code",
    "id": "ZZddZW7ww7Zt"
   },
   "outputs": [],
   "source": [
    "from keras.layers import Input, Embedding, LSTM, Activation, Dense, Dropout\n",
    "from keras.models import Model"
   ]
  },
  {
   "cell_type": "code",
   "execution_count": 19,
   "metadata": {
    "colab": {
     "base_uri": "https://localhost:8080/",
     "height": 758
    },
    "colab_type": "code",
    "id": "4dUyFIiTw_sD",
    "outputId": "313be407-1f41-42f9-d9ac-f8647b7da0a0"
   },
   "outputs": [
    {
     "name": "stderr",
     "output_type": "stream",
     "text": [
      "W0719 05:46:06.143986 140105013667712 deprecation_wrapper.py:119] From /usr/local/lib/python3.6/dist-packages/keras/backend/tensorflow_backend.py:517: The name tf.placeholder is deprecated. Please use tf.compat.v1.placeholder instead.\n",
      "\n",
      "W0719 05:46:06.160625 140105013667712 deprecation_wrapper.py:119] From /usr/local/lib/python3.6/dist-packages/keras/backend/tensorflow_backend.py:74: The name tf.get_default_graph is deprecated. Please use tf.compat.v1.get_default_graph instead.\n",
      "\n",
      "W0719 05:46:06.162071 140105013667712 deprecation_wrapper.py:119] From /usr/local/lib/python3.6/dist-packages/keras/backend/tensorflow_backend.py:4138: The name tf.random_uniform is deprecated. Please use tf.random.uniform instead.\n",
      "\n",
      "W0719 05:46:06.466995 140105013667712 deprecation.py:323] From /usr/local/lib/python3.6/dist-packages/keras/backend/tensorflow_backend.py:2974: add_dispatch_support.<locals>.wrapper (from tensorflow.python.ops.array_ops) is deprecated and will be removed in a future version.\n",
      "Instructions for updating:\n",
      "Use tf.where in 2.0, which has the same broadcast rule as np.where\n",
      "W0719 05:46:06.527751 140105013667712 deprecation_wrapper.py:119] From /usr/local/lib/python3.6/dist-packages/keras/backend/tensorflow_backend.py:133: The name tf.placeholder_with_default is deprecated. Please use tf.compat.v1.placeholder_with_default instead.\n",
      "\n",
      "W0719 05:46:06.540054 140105013667712 deprecation.py:506] From /usr/local/lib/python3.6/dist-packages/keras/backend/tensorflow_backend.py:3445: calling dropout (from tensorflow.python.ops.nn_ops) with keep_prob is deprecated and will be removed in a future version.\n",
      "Instructions for updating:\n",
      "Please use `rate` instead of `keep_prob`. Rate should be set to `rate = 1 - keep_prob`.\n",
      "W0719 05:46:06.581050 140105013667712 deprecation_wrapper.py:119] From /usr/local/lib/python3.6/dist-packages/keras/optimizers.py:790: The name tf.train.Optimizer is deprecated. Please use tf.compat.v1.train.Optimizer instead.\n",
      "\n",
      "W0719 05:46:06.608704 140105013667712 deprecation_wrapper.py:119] From /usr/local/lib/python3.6/dist-packages/keras/backend/tensorflow_backend.py:3376: The name tf.log is deprecated. Please use tf.math.log instead.\n",
      "\n"
     ]
    },
    {
     "name": "stdout",
     "output_type": "stream",
     "text": [
      "_________________________________________________________________\n",
      "Layer (type)                 Output Shape              Param #   \n",
      "=================================================================\n",
      "inputs (InputLayer)          (None, 30)                0         \n",
      "_________________________________________________________________\n",
      "embedding_1 (Embedding)      (None, 30, 300)           58857900  \n",
      "_________________________________________________________________\n",
      "lstm_1 (LSTM)                (None, 64)                93440     \n",
      "_________________________________________________________________\n",
      "FC1 (Dense)                  (None, 256)               16640     \n",
      "_________________________________________________________________\n",
      "activation_1 (Activation)    (None, 256)               0         \n",
      "_________________________________________________________________\n",
      "dropout_1 (Dropout)          (None, 256)               0         \n",
      "_________________________________________________________________\n",
      "out_layer (Dense)            (None, 1)                 257       \n",
      "_________________________________________________________________\n",
      "activation_2 (Activation)    (None, 1)                 0         \n",
      "=================================================================\n",
      "Total params: 58,968,237\n",
      "Trainable params: 58,968,237\n",
      "Non-trainable params: 0\n",
      "_________________________________________________________________\n"
     ]
    }
   ],
   "source": [
    "model = RNN()\n",
    "model.summary()\n",
    "model.compile(loss='binary_crossentropy',optimizer='adam',\n",
    "              metrics=['accuracy'])\n"
   ]
  },
  {
   "cell_type": "code",
   "execution_count": 0,
   "metadata": {
    "colab": {},
    "colab_type": "code",
    "id": "Y2V1i1GUxGXa"
   },
   "outputs": [],
   "source": [
    "sequences_test = tok.texts_to_sequences(X_test)\n",
    "sequences_matrix_test = sequence.pad_sequences(sequences_test,\n",
    "                                               maxlen=max_len)"
   ]
  },
  {
   "cell_type": "code",
   "execution_count": 25,
   "metadata": {
    "colab": {
     "base_uri": "https://localhost:8080/",
     "height": 404
    },
    "colab_type": "code",
    "id": "mUTz4kUrxMiY",
    "outputId": "7a20766e-5b30-4d09-b75b-c3e5cd520d57"
   },
   "outputs": [
    {
     "name": "stdout",
     "output_type": "stream",
     "text": [
      "Train on 1044897 samples, validate on 261225 samples\n",
      "Epoch 1/10\n",
      "1044897/1044897 [==============================] - 362s 346us/step - loss: 0.0110 - acc: 0.9955 - val_loss: 0.3679 - val_acc: 0.9445\n",
      "Epoch 2/10\n",
      "1044897/1044897 [==============================] - 359s 344us/step - loss: 0.0093 - acc: 0.9963 - val_loss: 0.3916 - val_acc: 0.9442\n",
      "Epoch 3/10\n",
      "1044897/1044897 [==============================] - 359s 344us/step - loss: 0.0080 - acc: 0.9969 - val_loss: 0.3906 - val_acc: 0.9438\n",
      "Epoch 4/10\n",
      "1044897/1044897 [==============================] - 360s 344us/step - loss: 0.0071 - acc: 0.9972 - val_loss: 0.3988 - val_acc: 0.9445\n",
      "Epoch 5/10\n",
      "1044897/1044897 [==============================] - 357s 342us/step - loss: 0.0062 - acc: 0.9976 - val_loss: 0.4077 - val_acc: 0.9447\n",
      "Epoch 6/10\n",
      "1044897/1044897 [==============================] - 356s 341us/step - loss: 0.0054 - acc: 0.9980 - val_loss: 0.4235 - val_acc: 0.9452\n",
      "Epoch 7/10\n",
      "1044897/1044897 [==============================] - 357s 341us/step - loss: 0.0048 - acc: 0.9982 - val_loss: 0.4277 - val_acc: 0.9476\n",
      "Epoch 8/10\n",
      "1044897/1044897 [==============================] - 357s 342us/step - loss: 0.0043 - acc: 0.9984 - val_loss: 0.4344 - val_acc: 0.9452\n",
      "Epoch 9/10\n",
      "1044897/1044897 [==============================] - 357s 342us/step - loss: 0.0037 - acc: 0.9987 - val_loss: 0.4524 - val_acc: 0.9441\n",
      "Epoch 10/10\n",
      "1044897/1044897 [==============================] - 357s 341us/step - loss: 0.0035 - acc: 0.9987 - val_loss: 0.4573 - val_acc: 0.9442\n"
     ]
    },
    {
     "data": {
      "text/plain": [
       "<keras.callbacks.History at 0x7f6bf5cdf198>"
      ]
     },
     "execution_count": 25,
     "metadata": {
      "tags": []
     },
     "output_type": "execute_result"
    }
   ],
   "source": [
    "model.fit(sequences_matrix_train,y_train,batch_size=500,epochs=10,validation_data=(sequences_matrix_test,y_test))"
   ]
  },
  {
   "cell_type": "code",
   "execution_count": 0,
   "metadata": {
    "colab": {},
    "colab_type": "code",
    "id": "5YNw3tcxRxGl"
   },
   "outputs": [],
   "source": [
    "predictions=model.predict(sequences_matrix_test)"
   ]
  },
  {
   "cell_type": "code",
   "execution_count": 0,
   "metadata": {
    "colab": {},
    "colab_type": "code",
    "id": "RjutMK9ZTEBh"
   },
   "outputs": [],
   "source": [
    "from sklearn.metrics import roc_auc_score"
   ]
  },
  {
   "cell_type": "code",
   "execution_count": 28,
   "metadata": {
    "colab": {
     "base_uri": "https://localhost:8080/",
     "height": 35
    },
    "colab_type": "code",
    "id": "IHuUb32aTHPM",
    "outputId": "cedc6047-7eaf-4c01-d319-58583097dcd2"
   },
   "outputs": [
    {
     "data": {
      "text/plain": [
       "0.8945822544205431"
      ]
     },
     "execution_count": 28,
     "metadata": {
      "tags": []
     },
     "output_type": "execute_result"
    }
   ],
   "source": [
    "roc_auc_score(y_test,predictions)"
   ]
  }
 ],
 "metadata": {
  "accelerator": "GPU",
  "colab": {
   "name": "Quora.ipynb",
   "provenance": [],
   "version": "0.3.2"
  },
  "kernelspec": {
   "display_name": "Python 3",
   "language": "python",
   "name": "python3"
  },
  "language_info": {
   "codemirror_mode": {
    "name": "ipython",
    "version": 3
   },
   "file_extension": ".py",
   "mimetype": "text/x-python",
   "name": "python",
   "nbconvert_exporter": "python",
   "pygments_lexer": "ipython3",
   "version": "3.7.3"
  }
 },
 "nbformat": 4,
 "nbformat_minor": 1
}
